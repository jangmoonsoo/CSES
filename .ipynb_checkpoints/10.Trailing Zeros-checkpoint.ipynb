{
 "cells": [
  {
   "cell_type": "markdown",
   "metadata": {},
   "source": [
    "# Time Limit Exceeded"
   ]
  },
  {
   "cell_type": "code",
   "execution_count": 33,
   "metadata": {},
   "outputs": [
    {
     "name": "stdout",
     "output_type": "stream",
     "text": [
      "Overwriting TZ.py\n"
     ]
    }
   ],
   "source": [
    "n = int(input())\n",
    "k=1\n",
    "for i in range(1,n+1):\n",
    "    k=k*i\n",
    "k=str(k)\n",
    "v=1\n",
    "for i in range(len(k)-1):\n",
    "    if k[i]=='0' and k[i]==k[i+1]:\n",
    "        v=v+1\n",
    "    else:\n",
    "        v=1\n",
    "        \n",
    "if n==1:\n",
    "    print(0)\n",
    "else:\n",
    "    print(v)"
   ]
  },
  {
   "cell_type": "markdown",
   "metadata": {},
   "source": [
    "# Using the fact that \"Factorial\" on the Wiki"
   ]
  },
  {
   "cell_type": "code",
   "execution_count": 36,
   "metadata": {},
   "outputs": [
    {
     "name": "stdout",
     "output_type": "stream",
     "text": [
      "Overwriting TZ.py\n"
     ]
    }
   ],
   "source": [
    "%%writefile TZ.py\n",
    "n=int(input())\n",
    "\n",
    "i=1\n",
    "T=0\n",
    "while 5**i<=n:\n",
    "    T+=n//5**i\n",
    "    i=i+1\n",
    "print(T)"
   ]
  },
  {
   "cell_type": "code",
   "execution_count": null,
   "metadata": {},
   "outputs": [],
   "source": []
  }
 ],
 "metadata": {
  "kernelspec": {
   "display_name": "Python 3",
   "language": "python",
   "name": "python3"
  },
  "language_info": {
   "codemirror_mode": {
    "name": "ipython",
    "version": 3
   },
   "file_extension": ".py",
   "mimetype": "text/x-python",
   "name": "python",
   "nbconvert_exporter": "python",
   "pygments_lexer": "ipython3",
   "version": "3.7.4"
  }
 },
 "nbformat": 4,
 "nbformat_minor": 2
}
