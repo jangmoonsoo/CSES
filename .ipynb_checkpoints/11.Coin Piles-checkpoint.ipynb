{
 "cells": [
  {
   "cell_type": "code",
   "execution_count": 12,
   "metadata": {},
   "outputs": [
    {
     "name": "stdout",
     "output_type": "stream",
     "text": [
      "Overwriting CP.py\n"
     ]
    }
   ],
   "source": [
    "%%writefile CP.py\n",
    "n=int(input())\n",
    "test=[]\n",
    "for i in range(n):\n",
    "    a,b=[int(x) for x in input().split()]\n",
    "    p=-a+2*b\n",
    "    q=2*a-b\n",
    "    if (a==0 and b==0) :\n",
    "        print(\"YES\")\n",
    "    elif a*b==0 or p<0 or q<0:\n",
    "        print(\"NO\")\n",
    "    elif (a+b)%3==0:\n",
    "        print(\"YES\")\n",
    "    else:\n",
    "        print(\"NO\")"
   ]
  }
 ],
 "metadata": {
  "kernelspec": {
   "display_name": "Python 3",
   "language": "python",
   "name": "python3"
  },
  "language_info": {
   "codemirror_mode": {
    "name": "ipython",
    "version": 3
   },
   "file_extension": ".py",
   "mimetype": "text/x-python",
   "name": "python",
   "nbconvert_exporter": "python",
   "pygments_lexer": "ipython3",
   "version": "3.7.4"
  }
 },
 "nbformat": 4,
 "nbformat_minor": 2
}
