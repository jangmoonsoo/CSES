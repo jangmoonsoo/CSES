{
 "cells": [
  {
   "cell_type": "code",
   "execution_count": null,
   "metadata": {},
   "outputs": [],
   "source": [
    "n=int(input())\n",
    "\n",
    "test=[]\n",
    "for i in range(n):\n",
    "    a,b=input().split(\" \")\n",
    "    test.append([int(a),int(b)])\n",
    "\n",
    "for x in test:\n",
    "    if x[0]>=x[1]:\n",
    "        if x[0]%2==0:\n",
    "            print(x[0]**2-(x[1]-1))\n",
    "        else :\n",
    "            print((x[0]-1)**2+x[1])\n",
    "    else:\n",
    "        if x[1]%2==1:\n",
    "            print(x[1]**2-(x[0]-1))\n",
    "        else:\n",
    "            print((x[1]-1)**2+x[0])"
   ]
  }
 ],
 "metadata": {
  "kernelspec": {
   "display_name": "Python 3",
   "language": "python",
   "name": "python3"
  },
  "language_info": {
   "codemirror_mode": {
    "name": "ipython",
    "version": 3
   },
   "file_extension": ".py",
   "mimetype": "text/x-python",
   "name": "python",
   "nbconvert_exporter": "python",
   "pygments_lexer": "ipython3",
   "version": "3.7.4"
  }
 },
 "nbformat": 4,
 "nbformat_minor": 2
}
