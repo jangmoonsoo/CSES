{
 "cells": [
  {
   "cell_type": "code",
   "execution_count": 1,
   "metadata": {},
   "outputs": [
    {
     "name": "stdout",
     "output_type": "stream",
     "text": [
      "3\n",
      "3 10 5 16 8 4 2 1 "
     ]
    }
   ],
   "source": [
    "n=int(input())\n",
    "a=[n]\n",
    "while n!=1 :\n",
    "    if n%2==0 :\n",
    "        n=n/2\n",
    "        a.append(int(n))\n",
    "    else :\n",
    "        n=3*n+1\n",
    "        a.append(int(n))\n",
    "for x in a :\n",
    "    print(x, end=' ')"
   ]
  }
 ],
 "metadata": {
  "kernelspec": {
   "display_name": "Python 3",
   "language": "python",
   "name": "python3"
  },
  "language_info": {
   "codemirror_mode": {
    "name": "ipython",
    "version": 3
   },
   "file_extension": ".py",
   "mimetype": "text/x-python",
   "name": "python",
   "nbconvert_exporter": "python",
   "pygments_lexer": "ipython3",
   "version": "3.7.4"
  }
 },
 "nbformat": 4,
 "nbformat_minor": 2
}
