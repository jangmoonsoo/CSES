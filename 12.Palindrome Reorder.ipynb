{
 "cells": [
  {
   "cell_type": "code",
   "execution_count": null,
   "metadata": {},
   "outputs": [],
   "source": [
    "a='AAAACACBA'\n",
    "q=sorted(list(set(a)))\n",
    "v=[]\n",
    "for x in q:\n",
    "    v.append(a.count(x))\n",
    "\n",
    "odd=0\n",
    "even=0\n",
    "for x in v:\n",
    "    if x%2==0:\n",
    "        even+=1\n",
    "    else:\n",
    "        odd+=1\n",
    "t=''\n",
    "for x in range(len(q)):\n",
    "    if x!=v.index(min(v)):\n",
    "        t=t+q[x]*int(v[x]/2)\n",
    "\n",
    "print(t+k+t[::-1])"
   ]
  },
  {
   "cell_type": "code",
   "execution_count": 82,
   "metadata": {},
   "outputs": [],
   "source": [
    "a='AAAACACBA'\n",
    "q=sorted(list(set(a)))\n",
    "v=[]\n",
    "for x in q:\n",
    "    v.append(a.count(x))\n",
    "    "
   ]
  },
  {
   "cell_type": "code",
   "execution_count": 29,
   "metadata": {},
   "outputs": [
    {
     "data": {
      "text/plain": [
       "'AAAACACBA'"
      ]
     },
     "execution_count": 29,
     "metadata": {},
     "output_type": "execute_result"
    }
   ],
   "source": [
    "a"
   ]
  },
  {
   "cell_type": "code",
   "execution_count": 31,
   "metadata": {},
   "outputs": [
    {
     "data": {
      "text/plain": [
       "['A', 'B', 'C']"
      ]
     },
     "execution_count": 31,
     "metadata": {},
     "output_type": "execute_result"
    }
   ],
   "source": [
    "q"
   ]
  },
  {
   "cell_type": "code",
   "execution_count": 53,
   "metadata": {},
   "outputs": [
    {
     "data": {
      "text/plain": [
       "'AAACB'"
      ]
     },
     "execution_count": 53,
     "metadata": {},
     "output_type": "execute_result"
    }
   ],
   "source": [
    "q[0]*int(v[0]/2) +  q[2]*int(v[2]/2) +q[1]*int(v[1]%2)"
   ]
  },
  {
   "cell_type": "code",
   "execution_count": 47,
   "metadata": {},
   "outputs": [
    {
     "data": {
      "text/plain": [
       "int"
      ]
     },
     "execution_count": 47,
     "metadata": {},
     "output_type": "execute_result"
    }
   ],
   "source": [
    "type(v[0])"
   ]
  },
  {
   "cell_type": "code",
   "execution_count": 55,
   "metadata": {},
   "outputs": [
    {
     "data": {
      "text/plain": [
       "3.0"
      ]
     },
     "execution_count": 55,
     "metadata": {},
     "output_type": "execute_result"
    }
   ],
   "source": [
    "v[0]/2"
   ]
  },
  {
   "cell_type": "code",
   "execution_count": 58,
   "metadata": {},
   "outputs": [
    {
     "name": "stdout",
     "output_type": "stream",
     "text": [
      "1 2\n"
     ]
    }
   ],
   "source": [
    "odd=0\n",
    "even=0\n",
    "for x in v:\n",
    "    if x%2==0:\n",
    "        even+=1\n",
    "    else:\n",
    "        odd+=1\n",
    "\n",
    "print(odd, even)"
   ]
  },
  {
   "cell_type": "code",
   "execution_count": null,
   "metadata": {},
   "outputs": [],
   "source": [
    "if odd==1:\n",
    "    "
   ]
  },
  {
   "cell_type": "code",
   "execution_count": 64,
   "metadata": {},
   "outputs": [
    {
     "data": {
      "text/plain": [
       "1"
      ]
     },
     "execution_count": 64,
     "metadata": {},
     "output_type": "execute_result"
    }
   ],
   "source": [
    "v.index(1)"
   ]
  },
  {
   "cell_type": "code",
   "execution_count": 70,
   "metadata": {},
   "outputs": [
    {
     "data": {
      "text/plain": [
       "['A', 'B', 'C']"
      ]
     },
     "execution_count": 70,
     "metadata": {},
     "output_type": "execute_result"
    }
   ],
   "source": [
    "q"
   ]
  },
  {
   "cell_type": "code",
   "execution_count": 74,
   "metadata": {},
   "outputs": [
    {
     "data": {
      "text/plain": [
       "[6, 1, 2]"
      ]
     },
     "execution_count": 74,
     "metadata": {},
     "output_type": "execute_result"
    }
   ],
   "source": [
    "v"
   ]
  },
  {
   "cell_type": "code",
   "execution_count": 78,
   "metadata": {},
   "outputs": [
    {
     "data": {
      "text/plain": [
       "1"
      ]
     },
     "execution_count": 78,
     "metadata": {},
     "output_type": "execute_result"
    }
   ],
   "source": [
    "v.index(min(v))"
   ]
  },
  {
   "cell_type": "code",
   "execution_count": 83,
   "metadata": {},
   "outputs": [
    {
     "data": {
      "text/plain": [
       "'B'"
      ]
     },
     "execution_count": 83,
     "metadata": {},
     "output_type": "execute_result"
    }
   ],
   "source": [
    "q[v.index(min(v))]"
   ]
  },
  {
   "cell_type": "code",
   "execution_count": 104,
   "metadata": {},
   "outputs": [
    {
     "name": "stdout",
     "output_type": "stream",
     "text": [
      "AAACBCAAA\n"
     ]
    }
   ],
   "source": [
    "t=''\n",
    "for x in range(len(q)):\n",
    "    if x!=v.index(min(v)):\n",
    "        t=t+q[x]*int(v[x]/2)\n",
    "\n",
    "print(t+k+t[::-1])"
   ]
  },
  {
   "cell_type": "code",
   "execution_count": 88,
   "metadata": {},
   "outputs": [
    {
     "data": {
      "text/plain": [
       "'AAA'"
      ]
     },
     "execution_count": 88,
     "metadata": {},
     "output_type": "execute_result"
    }
   ],
   "source": [
    "q[0]*int(v[0]/2)"
   ]
  },
  {
   "cell_type": "code",
   "execution_count": 100,
   "metadata": {},
   "outputs": [
    {
     "data": {
      "text/plain": [
       "'AAACB'"
      ]
     },
     "execution_count": 100,
     "metadata": {},
     "output_type": "execute_result"
    }
   ],
   "source": [
    "k=q[v.index(min(v))]\n",
    "t+k"
   ]
  },
  {
   "cell_type": "code",
   "execution_count": 105,
   "metadata": {},
   "outputs": [
    {
     "data": {
      "text/plain": [
       "'AAACBCAAA'"
      ]
     },
     "execution_count": 105,
     "metadata": {},
     "output_type": "execute_result"
    }
   ],
   "source": [
    "t+k+t[::-1]"
   ]
  },
  {
   "cell_type": "code",
   "execution_count": null,
   "metadata": {},
   "outputs": [],
   "source": []
  },
  {
   "cell_type": "code",
   "execution_count": 106,
   "metadata": {},
   "outputs": [
    {
     "name": "stdout",
     "output_type": "stream",
     "text": [
      "AAACBCAAA\n"
     ]
    }
   ],
   "source": [
    "a='AAAACACBA'\n",
    "q=sorted(list(set(a)))\n",
    "v=[]\n",
    "for x in q:\n",
    "    v.append(a.count(x))\n",
    "\n",
    "odd=0\n",
    "even=0\n",
    "for x in v:\n",
    "    if x%2==0:\n",
    "        even+=1\n",
    "    else:\n",
    "        odd+=1\n",
    "        \n",
    "if len(a)%2==1 and odd ==1:\n",
    "    t=''\n",
    "    for x in range(len(q)):\n",
    "        if x!=v.index(min(v)):\n",
    "            t=t+q[x]*int(v[x]/2)\n",
    "\n",
    "    print(t+k+t[::-1])\n",
    "    \n",
    "elif len(a)%2==0 and odd==0:\n",
    "    "
   ]
  },
  {
   "cell_type": "code",
   "execution_count": 110,
   "metadata": {},
   "outputs": [],
   "source": [
    "a='ABAB'\n",
    "q=sorted(list(set(a)))\n",
    "v=[]\n",
    "for x in q:\n",
    "    v.append(a.count(x))\n",
    "\n",
    "odd=0\n",
    "even=0\n",
    "for x in v:\n",
    "    if x%2==0:\n",
    "        even+=1\n",
    "    else:\n",
    "        odd+=1\n",
    "#t=''\n",
    "#for x in range(len(q)):\n",
    "#    if x!=v.index(min(v)):\n",
    "#        t=t+q[x]*int(v[x]/2)\n",
    "        \n",
    "#print(t+k+t[::-1])\n",
    "\n"
   ]
  },
  {
   "cell_type": "code",
   "execution_count": 112,
   "metadata": {},
   "outputs": [
    {
     "data": {
      "text/plain": [
       "[2, 2]"
      ]
     },
     "execution_count": 112,
     "metadata": {},
     "output_type": "execute_result"
    }
   ],
   "source": [
    "v"
   ]
  },
  {
   "cell_type": "code",
   "execution_count": 113,
   "metadata": {},
   "outputs": [
    {
     "data": {
      "text/plain": [
       "['A', 'B']"
      ]
     },
     "execution_count": 113,
     "metadata": {},
     "output_type": "execute_result"
    }
   ],
   "source": [
    "q"
   ]
  },
  {
   "cell_type": "code",
   "execution_count": 114,
   "metadata": {},
   "outputs": [
    {
     "data": {
      "text/plain": [
       "0"
      ]
     },
     "execution_count": 114,
     "metadata": {},
     "output_type": "execute_result"
    }
   ],
   "source": [
    "odd"
   ]
  },
  {
   "cell_type": "code",
   "execution_count": 115,
   "metadata": {},
   "outputs": [
    {
     "data": {
      "text/plain": [
       "2"
      ]
     },
     "execution_count": 115,
     "metadata": {},
     "output_type": "execute_result"
    }
   ],
   "source": [
    "even"
   ]
  },
  {
   "cell_type": "code",
   "execution_count": 118,
   "metadata": {},
   "outputs": [
    {
     "name": "stdout",
     "output_type": "stream",
     "text": [
      "ABBA\n"
     ]
    }
   ],
   "source": [
    "t=''\n",
    "for x in range(len(q)):\n",
    "    t=t+q[x]*int(v[x]/2)\n",
    "print(t+t[::-1])"
   ]
  },
  {
   "cell_type": "code",
   "execution_count": 127,
   "metadata": {},
   "outputs": [
    {
     "name": "stdout",
     "output_type": "stream",
     "text": [
      "Overwriting PR.py\n"
     ]
    }
   ],
   "source": [
    "%%writefile PR.py\n",
    "a=input()\n",
    "q=sorted(list(set(a)))\n",
    "v=[]\n",
    "for x in q:\n",
    "    v.append(a.count(x))\n",
    "\n",
    "\n",
    "odd=0\n",
    "even=0\n",
    "for x in v:\n",
    "    if x%2==0:\n",
    "        even+=1\n",
    "    else:\n",
    "        odd+=1\n",
    "\n",
    "k=q[v.index(min(v))]        \n",
    "t=''\n",
    "if len(a)%2==1 and odd==1:\n",
    "    for x in range(len(q)):\n",
    "        if x!=v.index(min(v)):\n",
    "            t=t+q[x]*int(v[x]/2)\n",
    "    print(t+k+t[::-1])\n",
    "    \n",
    "elif len(a)%2==0 and odd==0:\n",
    "    for x in range(len(q)):\n",
    "        t=t+q[x]*int(v[x]/2)\n",
    "    print(t+t[::-1])\n",
    "else:\n",
    "    print(\"NO SOLUTION\")"
   ]
  },
  {
   "cell_type": "code",
   "execution_count": 120,
   "metadata": {},
   "outputs": [
    {
     "name": "stdout",
     "output_type": "stream",
     "text": [
      "AAAACACBA\n",
      "AAAACACBA\n"
     ]
    }
   ],
   "source": [
    "q=input()\n",
    "print(q)"
   ]
  },
  {
   "cell_type": "code",
   "execution_count": 128,
   "metadata": {},
   "outputs": [
    {
     "name": "stdout",
     "output_type": "stream",
     "text": [
      "Overwriting PR.py\n"
     ]
    }
   ],
   "source": [
    "%%writefile PR.py\n",
    "a=input()\n",
    "q=sorted(list(set(a)))\n",
    "v=[]\n",
    "for x in q:\n",
    "    v.append(a.count(x))\n",
    "\n",
    "odd=0\n",
    "even=0\n",
    "for x in v:\n",
    "    if x%2==0:\n",
    "        even+=1\n",
    "    else:\n",
    "        odd+=1\n",
    "\n",
    "t=''\n",
    "k=q[v.index(min(v))]\n",
    "if len(a)%2==1 and odd==1:\n",
    "    for x in range(len(q)):\n",
    "        if x!=v.index(min(v)):\n",
    "            t=t+q[x]*int(v[x]/2)\n",
    "    print(t+k+t[::-1])\n",
    "    \n",
    "elif len(a)%2==0 and odd==0:\n",
    "    for x in range(len(q)):\n",
    "        t=t+q[x]*int(v[x]/2)\n",
    "    print(t+t[::-1])\n",
    "else:\n",
    "    print(\"NO SOLUTION\")"
   ]
  },
  {
   "cell_type": "code",
   "execution_count": 144,
   "metadata": {},
   "outputs": [
    {
     "name": "stdout",
     "output_type": "stream",
     "text": [
      "AVAVAVAVWEWEWEWE\n",
      "AAEEVVWWWWVVEEAA\n"
     ]
    }
   ],
   "source": [
    "string=input()\n",
    "alp_uniq=sorted(list(set(string)))\n",
    "alp_num=[]\n",
    "for i in alp_uniq:\n",
    "    alp_num.append(string.count(i))\n",
    "\n",
    "odd=0\n",
    "for x in alp_num:\n",
    "    if x%2==1:\n",
    "        odd+=1\n",
    "tem=''        \n",
    "if len(string)%2==0 and odd==0:\n",
    "    for i in range(len(alp_uniq)):\n",
    "        tem+=alp_uniq[i]*int(alp_num[i]/2)\n",
    "    print(tem+tem[::-1])"
   ]
  },
  {
   "cell_type": "code",
   "execution_count": 153,
   "metadata": {},
   "outputs": [
    {
     "name": "stdout",
     "output_type": "stream",
     "text": [
      "5\n"
     ]
    }
   ],
   "source": [
    "M=''\n",
    "T=[4,6,8,2,4,3]\n",
    "for x in T:\n",
    "    if x%2==1:\n",
    "        print(T.index(x))"
   ]
  },
  {
   "cell_type": "markdown",
   "metadata": {},
   "source": [
    "# Final Result"
   ]
  },
  {
   "cell_type": "code",
   "execution_count": 158,
   "metadata": {},
   "outputs": [
    {
     "name": "stdout",
     "output_type": "stream",
     "text": [
      "Overwriting PR.py\n"
     ]
    }
   ],
   "source": [
    "%%writefile PR.py\n",
    "string=input()\n",
    "alp_uniq=sorted(list(set(string)))\n",
    "alp_num=[]\n",
    "for i in alp_uniq:\n",
    "    alp_num.append(string.count(i))\n",
    "\n",
    "odd=0\n",
    "for x in alp_num:\n",
    "    if x%2==1:\n",
    "        odd+=1\n",
    "tem=''        \n",
    "if len(string)%2==0 and odd==0:\n",
    "    for i in range(len(alp_uniq)):\n",
    "        tem+=alp_uniq[i]*int(alp_num[i]/2)\n",
    "    print(tem+tem[::-1])\n",
    "\n",
    "elif len(string)%2==1 and odd==1:\n",
    "    for i in alp_num:\n",
    "        if i%2==1:\n",
    "            C=alp_num.index(i)\n",
    "    \n",
    "    for i in range(len(alp_uniq)):\n",
    "        if i!=C:\n",
    "            tem+=alp_uniq[i]*int(alp_num[i]/2)\n",
    "    print(tem+alp_uniq[C]*int(alp_num[C])+tem[::-1])\n",
    "\n",
    "else:\n",
    "    print(\"NO SOLUTION\")\n"
   ]
  }
 ],
 "metadata": {
  "kernelspec": {
   "display_name": "Python 3",
   "language": "python",
   "name": "python3"
  },
  "language_info": {
   "codemirror_mode": {
    "name": "ipython",
    "version": 3
   },
   "file_extension": ".py",
   "mimetype": "text/x-python",
   "name": "python",
   "nbconvert_exporter": "python",
   "pygments_lexer": "ipython3",
   "version": "3.7.4"
  }
 },
 "nbformat": 4,
 "nbformat_minor": 2
}
