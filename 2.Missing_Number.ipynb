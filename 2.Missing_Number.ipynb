{
 "cells": [
  {
   "cell_type": "code",
   "execution_count": 36,
   "metadata": {},
   "outputs": [
    {
     "name": "stdout",
     "output_type": "stream",
     "text": [
      "Writing Missing_Number.py\n"
     ]
    }
   ],
   "source": [
    "%%writefile Missing_Number.py\n",
    "n=int(input())\n",
    "a=input().split()\n",
    "a=list(map(int,a))\n",
    "m=list(range(1,n+1))\n",
    "a=set(a)\n",
    "m=set(m)\n",
    "R = m.difference(a)\n",
    "print(list(R)[0])"
   ]
  }
 ],
 "metadata": {
  "kernelspec": {
   "display_name": "Python 3",
   "language": "python",
   "name": "python3"
  },
  "language_info": {
   "codemirror_mode": {
    "name": "ipython",
    "version": 3
   },
   "file_extension": ".py",
   "mimetype": "text/x-python",
   "name": "python",
   "nbconvert_exporter": "python",
   "pygments_lexer": "ipython3",
   "version": "3.7.4"
  }
 },
 "nbformat": 4,
 "nbformat_minor": 2
}
