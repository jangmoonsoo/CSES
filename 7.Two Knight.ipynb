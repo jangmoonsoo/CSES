{
 "cells": [
  {
   "cell_type": "code",
   "execution_count": 1,
   "metadata": {},
   "outputs": [
    {
     "name": "stdout",
     "output_type": "stream",
     "text": [
      "8\n",
      "0\n",
      "6\n",
      "28\n",
      "96\n",
      "252\n",
      "550\n",
      "1056\n",
      "1848\n"
     ]
    }
   ],
   "source": [
    "n=int(input())\n",
    "for i in range(1,n+1) :\n",
    "    if i ==1:\n",
    "        print(0)\n",
    "    elif i==2:\n",
    "        print(6)\n",
    "    elif i==3:\n",
    "        print(28)\n",
    "    elif i==4:\n",
    "        print(96)\n",
    "    else:\n",
    "        print( int((i**2)*(i**2-1)/2-(24*(i-3) + 4*(i-5)*(i-4)) ))"
   ]
  }
 ],
 "metadata": {
  "kernelspec": {
   "display_name": "Python 3",
   "language": "python",
   "name": "python3"
  },
  "language_info": {
   "codemirror_mode": {
    "name": "ipython",
    "version": 3
   },
   "file_extension": ".py",
   "mimetype": "text/x-python",
   "name": "python",
   "nbconvert_exporter": "python",
   "pygments_lexer": "ipython3",
   "version": "3.7.4"
  }
 },
 "nbformat": 4,
 "nbformat_minor": 2
}
