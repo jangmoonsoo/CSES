{
 "cells": [
  {
   "cell_type": "code",
   "execution_count": 24,
   "metadata": {},
   "outputs": [
    {
     "name": "stdout",
     "output_type": "stream",
     "text": [
      "7\n"
     ]
    }
   ],
   "source": [
    "n=int(input())\n",
    "x=[]\n",
    "y=[]\n",
    "\n",
    "k=range(1,n+1)\n",
    "x.append(k[n-1:(n-(n+1)//4)])"
   ]
  },
  {
   "cell_type": "code",
   "execution_count": 44,
   "metadata": {},
   "outputs": [
    {
     "name": "stdout",
     "output_type": "stream",
     "text": [
      "7\n",
      "range(6, 8)\n"
     ]
    }
   ],
   "source": [
    "n=int(input())\n",
    "x=range(n+1- (n+1)//4,n+1 )\n",
    "print(x)"
   ]
  },
  {
   "cell_type": "code",
   "execution_count": 56,
   "metadata": {},
   "outputs": [
    {
     "name": "stdout",
     "output_type": "stream",
     "text": [
      "7\n"
     ]
    }
   ],
   "source": [
    "n=int(input())\n",
    "x=range(n+1- (n+1)//4,n+1 )\n",
    "x=list(x)\n",
    "x.append(int(n*(n+1)/4-sum(x)))"
   ]
  },
  {
   "cell_type": "code",
   "execution_count": 59,
   "metadata": {},
   "outputs": [
    {
     "data": {
      "text/plain": [
       "[6, 7, 1]"
      ]
     },
     "execution_count": 59,
     "metadata": {},
     "output_type": "execute_result"
    }
   ],
   "source": [
    "x"
   ]
  },
  {
   "cell_type": "code",
   "execution_count": 60,
   "metadata": {},
   "outputs": [
    {
     "data": {
      "text/plain": [
       "range(1, 8)"
      ]
     },
     "execution_count": 60,
     "metadata": {},
     "output_type": "execute_result"
    }
   ],
   "source": [
    "range(1,n+1)"
   ]
  },
  {
   "cell_type": "code",
   "execution_count": 61,
   "metadata": {},
   "outputs": [
    {
     "data": {
      "text/plain": [
       "[6, 7, 1]"
      ]
     },
     "execution_count": 61,
     "metadata": {},
     "output_type": "execute_result"
    }
   ],
   "source": [
    "x"
   ]
  },
  {
   "cell_type": "code",
   "execution_count": 64,
   "metadata": {},
   "outputs": [],
   "source": [
    "k=list(range(1,n+1))"
   ]
  },
  {
   "cell_type": "code",
   "execution_count": 67,
   "metadata": {},
   "outputs": [],
   "source": [
    "a=set(x)\n",
    "b=set(k)\n",
    "T=b.difference(a)"
   ]
  },
  {
   "cell_type": "code",
   "execution_count": 69,
   "metadata": {},
   "outputs": [
    {
     "data": {
      "text/plain": [
       "[2, 3, 4, 5]"
      ]
     },
     "execution_count": 69,
     "metadata": {},
     "output_type": "execute_result"
    }
   ],
   "source": [
    "list(T)"
   ]
  },
  {
   "cell_type": "code",
   "execution_count": 71,
   "metadata": {},
   "outputs": [
    {
     "name": "stdout",
     "output_type": "stream",
     "text": [
      "7\n",
      "3\n",
      "[6, 7, 1]\n",
      "4\n",
      "[2, 3, 4, 5]\n"
     ]
    }
   ],
   "source": [
    "n=int(input())\n",
    "k=range(1,n+1)\n",
    "x=range(n+1- (n+1)//4,n+1 )\n",
    "x=list(x)\n",
    "x.append(int(n*(n+1)/4-sum(x)))\n",
    "print(len(x))\n",
    "print(x)\n",
    "a=set(k)\n",
    "b=set(x)\n",
    "R=a.difference(b)\n",
    "R=list(R)\n",
    "print(len(R))\n",
    "print(R)"
   ]
  },
  {
   "cell_type": "code",
   "execution_count": 81,
   "metadata": {},
   "outputs": [
    {
     "name": "stdout",
     "output_type": "stream",
     "text": [
      "3\n",
      "YES\n",
      "2\n",
      "[3, 0]\n",
      "2\n",
      "[1, 2]\n"
     ]
    }
   ],
   "source": [
    "n=int(input())\n",
    "if n%4==0 or (n+1)%4 ==0 :\n",
    "    print(\"YES\")\n",
    "    k=range(1,n+1)\n",
    "    x=range(n+1- (n+1)//4,n+1 )\n",
    "    x=list(x)\n",
    "    x.append(int(n*(n+1)/4-sum(x)))\n",
    "    print(len(x))\n",
    "    print(x)\n",
    "    a=set(k)\n",
    "    b=set(x)\n",
    "    R=a.difference(b)\n",
    "    R=list(R)\n",
    "    print(len(R))\n",
    "    print(R)\n",
    "else :\n",
    "    print(\"NO\")"
   ]
  },
  {
   "cell_type": "code",
   "execution_count": null,
   "metadata": {},
   "outputs": [],
   "source": []
  },
  {
   "cell_type": "code",
   "execution_count": 172,
   "metadata": {},
   "outputs": [
    {
     "name": "stdout",
     "output_type": "stream",
     "text": [
      "Overwriting TS.py\n"
     ]
    }
   ],
   "source": [
    "%%writefile TS.py\n",
    "n=int(input())\n",
    "k=range(1,n+1)\n",
    "x=[]\n",
    "\n",
    "if n%4==0 or (n+1)%4==0 :\n",
    "    print(\"YES\")\n",
    "    a=x+list(range(n,n-(n+1)//4,-1))\n",
    "    if int(n*(n+1)/4-sum(a))!=0:\n",
    "        a.append(int(n*(n+1)/4-sum(a)))\n",
    "    A=set(a)\n",
    "    K=set(k)\n",
    "    B=K.difference(A)\n",
    "    b=list(B)\n",
    "    print(len(a))\n",
    "    for q in a:\n",
    "        print(q, end=' ')\n",
    "    print(\"\\n\")\n",
    "    print(len(b))\n",
    "    for w in b:\n",
    "        print(w, end=' ')\n",
    "else:\n",
    "    print(\"NO\")"
   ]
  },
  {
   "cell_type": "code",
   "execution_count": 182,
   "metadata": {},
   "outputs": [
    {
     "name": "stdout",
     "output_type": "stream",
     "text": [
      "5\n",
      "[1, 2, 3, 4, 5]\n",
      "4\n"
     ]
    }
   ],
   "source": [
    "n=int(input())\n",
    "k=range(1,n+1)\n",
    "x=[]\n",
    "\n",
    "if n%4==0 or (n+1)%4==0 :\n",
    "    print(\"YES\")\n",
    "    a=x+list(range(n,n-(n+1)//4,-1))\n",
    "    if n*(n+1)/4-sum(a) > min(a):\n",
    "        \n",
    "    if int(n*(n+1)/4-sum(a))!=0:\n",
    "        a.append(int(n*(n+1)/4-sum(a)))\n",
    "    A=set(a)\n",
    "    K=set(k)\n",
    "    B=K.difference(A)\n",
    "    b=list(B)\n",
    "    print(len(a))\n",
    "    for q in a:\n",
    "        print(q, end=' ')\n",
    "    print(\"\\n\")\n",
    "    print(len(b))\n",
    "    for w in b:\n",
    "        print(w, end=' ')\n",
    "else:\n",
    "    print(\"NO\")"
   ]
  },
  {
   "cell_type": "code",
   "execution_count": 186,
   "metadata": {
    "scrolled": true
   },
   "outputs": [
    {
     "name": "stdout",
     "output_type": "stream",
     "text": [
      "[0, 1, 2, 3, 4]\n"
     ]
    }
   ],
   "source": [
    "q=range(5)\n",
    "list(q)[4]\n",
    "print(list(q))"
   ]
  },
  {
   "cell_type": "code",
   "execution_count": 189,
   "metadata": {},
   "outputs": [
    {
     "name": "stdout",
     "output_type": "stream",
     "text": [
      "[0, 1]\n"
     ]
    }
   ],
   "source": [
    "print(list(range(2)))"
   ]
  },
  {
   "cell_type": "code",
   "execution_count": 191,
   "metadata": {},
   "outputs": [
    {
     "name": "stdout",
     "output_type": "stream",
     "text": [
      "6\n",
      "[1, 3, 5] [2, 4, 6]\n"
     ]
    }
   ],
   "source": [
    "n=int(input())\n",
    "k=list(range(1,n+1))\n",
    "O=[]\n",
    "E=[]\n",
    "for i in k:\n",
    "    if i%2==1:\n",
    "        O.append(i)\n",
    "    else:\n",
    "        E.append(i)"
   ]
  },
  {
   "cell_type": "markdown",
   "metadata": {},
   "source": [
    "# Final Result."
   ]
  },
  {
   "cell_type": "code",
   "execution_count": 6,
   "metadata": {},
   "outputs": [
    {
     "name": "stdout",
     "output_type": "stream",
     "text": [
      "Overwriting TS.py\n"
     ]
    }
   ],
   "source": [
    "%%writefile TS.py\n",
    "n=int(input())\n",
    "k=list(range(1,n+1))\n",
    "O=[]\n",
    "E=[]\n",
    "for i in k:\n",
    "    if i%2==1:\n",
    "        O.append(i)\n",
    "    else:\n",
    "        E.append(i)\n",
    "        \n",
    "S_T = n*(n+1)/2\n",
    "S_O = sum(O)\n",
    "S_E = sum(E)\n",
    "if S_T%2==0:\n",
    "    print(\"YES\")\n",
    "    if S_O>=S_T/2:\n",
    "        for x in range(int(S_O-S_T/2)):\n",
    "            O[x+1] -=1\n",
    "            E[x] +=1\n",
    "    else :\n",
    "        for t in range(int(S_E-S_T/2)):\n",
    "            O[t] +=1\n",
    "            E[t] -=1\n",
    "    print(len(O))\n",
    "    for q in O:\n",
    "        print(q)\n",
    "    print(len(E))\n",
    "    for w in E:\n",
    "        print(w)\n",
    "else:\n",
    "    print(\"NO\")"
   ]
  },
  {
   "cell_type": "code",
   "execution_count": null,
   "metadata": {},
   "outputs": [],
   "source": []
  }
 ],
 "metadata": {
  "kernelspec": {
   "display_name": "Python 3",
   "language": "python",
   "name": "python3"
  },
  "language_info": {
   "codemirror_mode": {
    "name": "ipython",
    "version": 3
   },
   "file_extension": ".py",
   "mimetype": "text/x-python",
   "name": "python",
   "nbconvert_exporter": "python",
   "pygments_lexer": "ipython3",
   "version": "3.7.4"
  }
 },
 "nbformat": 4,
 "nbformat_minor": 2
}
